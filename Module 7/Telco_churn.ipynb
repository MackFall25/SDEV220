{
 "cells": [
  {
   "cell_type": "code",
   "execution_count": null,
   "id": "44f9f8b7-ca3e-4afe-ba75-f8b74fc9aecd",
   "metadata": {},
   "outputs": [],
   "source": [
    "import pandas as pd"
   ]
  },
  {
   "cell_type": "code",
   "execution_count": null,
   "id": "13f60e4e-2cc0-43e6-a2d3-66aeed59511a",
   "metadata": {},
   "outputs": [],
   "source": [
    "pd."
   ]
  },
  {
   "cell_type": "code",
   "execution_count": null,
   "id": "2ce5943d-d95b-4938-903a-bdbd359d7767",
   "metadata": {},
   "outputs": [],
   "source": [
    "#Create"
   ]
  },
  {
   "cell_type": "code",
   "execution_count": null,
   "id": "61879338-f429-4642-b9fe-81857c92f6af",
   "metadata": {},
   "outputs": [],
   "source": [
    "file_path = r\"C:\\Users\\macks\\Downloads\\telco_churn.csv\""
   ]
  },
  {
   "cell_type": "code",
   "execution_count": null,
   "id": "ea384762-efd1-49e8-9f1d-6f0e3c236e51",
   "metadata": {},
   "outputs": [],
   "source": [
    "df = pd.read_csv(\"telco_churn.csv\")"
   ]
  },
  {
   "cell_type": "code",
   "execution_count": null,
   "id": "bcc5e5cd-df88-41c3-bce0-bdd3f5a09de6",
   "metadata": {},
   "outputs": [],
   "source": [
    "#create from dictionary"
   ]
  },
  {
   "cell_type": "code",
   "execution_count": null,
   "id": "04b1e283-a23f-4d68-a7f3-34879b76a162",
   "metadata": {},
   "outputs": [],
   "source": [
    "print(\"----- HEAD -----\")"
   ]
  },
  {
   "cell_type": "code",
   "execution_count": null,
   "id": "b034da8f-35cb-48ce-892b-e034d75d72aa",
   "metadata": {},
   "outputs": [],
   "source": [
    "print(df.head(10))"
   ]
  },
  {
   "cell_type": "code",
   "execution_count": null,
   "id": "2c5ef11b-fc2e-47ee-88ef-0c7344309a33",
   "metadata": {},
   "outputs": [],
   "source": [
    "#View the last few rows"
   ]
  },
  {
   "cell_type": "code",
   "execution_count": null,
   "id": "2cc34f7b-87e5-4b1e-9d7e-71b29472a665",
   "metadata": {},
   "outputs": [],
   "source": [
    "print(\"\\n----- TAIL -----\")\n",
    "print(df.tail(5))"
   ]
  },
  {
   "cell_type": "code",
   "execution_count": null,
   "id": "d8385aaf-b059-4af4-8df7-28a02f814b5f",
   "metadata": {},
   "outputs": [],
   "source": [
    "#Check columns and data types"
   ]
  },
  {
   "cell_type": "code",
   "execution_count": null,
   "id": "84642bd8-9dcb-4496-89f9-06b8bdfe4ebb",
   "metadata": {},
   "outputs": [],
   "source": [
    "print(\"\\n----- COLUMNS -----\")\n",
    "print(df.columns)"
   ]
  },
  {
   "cell_type": "code",
   "execution_count": null,
   "id": "88056726-8ad4-4bf3-bb19-a01c7bf00925",
   "metadata": {},
   "outputs": [],
   "source": [
    "print(\"\\n----- DATA TYPES -----\")\n",
    "print(df.dtypes)"
   ]
  },
  {
   "cell_type": "code",
   "execution_count": null,
   "id": "df4470b5-61e2-49ad-90b7-eb128003b2a8",
   "metadata": {},
   "outputs": [],
   "source": [
    "#Basic summary statistics"
   ]
  },
  {
   "cell_type": "code",
   "execution_count": null,
   "id": "8c4e4e7a-2647-4146-bd01-31b5e9bd3170",
   "metadata": {},
   "outputs": [],
   "source": [
    "print(\"\\n----- SUMMARY STATS (NUMERIC) -----\")\n",
    "print(df.describe())"
   ]
  },
  {
   "cell_type": "code",
   "execution_count": null,
   "id": "4a8ed6d3-ebc6-4fde-91b1-2d25b81aa584",
   "metadata": {},
   "outputs": [],
   "source": [
    "print(\"\\n----- SUMMARY STATS (CATEGORICAL) -----\")\n",
    "print(df.describe(include='object'))"
   ]
  },
  {
   "cell_type": "code",
   "execution_count": null,
   "id": "3b10680c-05d6-4aea-8b79-3a2b747a35f4",
   "metadata": {},
   "outputs": [],
   "source": [
    "#Check for missing values"
   ]
  },
  {
   "cell_type": "code",
   "execution_count": null,
   "id": "62455759-394a-4256-ad03-c5f79f33ff4e",
   "metadata": {},
   "outputs": [],
   "source": [
    "print(\"\\n----- MISSING VALUES -----\")\n",
    "print(df.isnull().sum())"
   ]
  },
  {
   "cell_type": "code",
   "execution_count": null,
   "id": "8b59d83a-2480-4305-ba9a-c19e45a5bd40",
   "metadata": {},
   "outputs": [],
   "source": [
    "#Create a small DataFrame manually (for demonstration)"
   ]
  },
  {
   "cell_type": "code",
   "execution_count": null,
   "id": "03664575-3004-442a-8862-add2754495ab",
   "metadata": {},
   "outputs": [],
   "source": [
    "sample_data = {\n",
    "    'CustomerID': [1, 2, 3],\n",
    "    'Plan': ['Basic', 'Premium', 'Unlimited'],\n",
    "    'Churn': [False, True, False]\n",
    "}\n",
    "sample_df = pd.DataFrame(sample_data)\n",
    "print(\"\\n----- SAMPLE DF -----\")\n",
    "print(sample_df.head())"
   ]
  },
  {
   "cell_type": "code",
   "execution_count": null,
   "id": "f7cb7133-597e-4d34-832b-8e00cbea7997",
   "metadata": {},
   "outputs": [],
   "source": [
    "#View top/bottom rows"
   ]
  },
  {
   "cell_type": "code",
   "execution_count": null,
   "id": "0c4b3872-6a3b-4fdf-af3d-1a140544a1bc",
   "metadata": {},
   "outputs": [],
   "source": [
    "print(\"\\n----- TOP 5 -----\")\n",
    "print(df.head())\n",
    "print(\"\\n----- BOTTOM 5 -----\")\n",
    "print(df.tail())"
   ]
  },
  {
   "cell_type": "code",
   "execution_count": null,
   "id": "16c1bdcd-f50b-49fd-abc9-715deaf9d4ce",
   "metadata": {},
   "outputs": [],
   "source": [
    "#View unique values from categorical columns"
   ]
  },
  {
   "cell_type": "code",
   "execution_count": null,
   "id": "4998260f-654d-4b40-8e2c-8c1f9a70d32f",
   "metadata": {},
   "outputs": [],
   "source": [
    "print(\"\\n----- UNIQUE VALUES IN 'Churn' COLUMN -----\")\n",
    "print(df['Churn'].unique())"
   ]
  },
  {
   "cell_type": "code",
   "execution_count": null,
   "id": "4f2b3df1-2c49-47bc-a792-0b59bf1261ef",
   "metadata": {},
   "outputs": [],
   "source": [
    "#Filter data — customers who churned"
   ]
  },
  {
   "cell_type": "code",
   "execution_count": null,
   "id": "254d5321-7804-4910-8ba9-004103e17d8f",
   "metadata": {},
   "outputs": [],
   "source": [
    "print(\"\\n----- CUSTOMERS WHO CHURNED -----\")\n",
    "print(df[df['Churn'] == 'Yes'].head())"
   ]
  },
  {
   "cell_type": "code",
   "execution_count": null,
   "id": "cf695a83-b648-4568-b830-5f83207924b7",
   "metadata": {},
   "outputs": [],
   "source": [
    "#Multiple conditions (example: churned and on international plan)"
   ]
  },
  {
   "cell_type": "code",
   "execution_count": null,
   "id": "5edffd5a-ceb6-451f-9afa-23c812508357",
   "metadata": {},
   "outputs": [],
   "source": [
    "if 'International plan' in df.columns:\n",
    "    filtered = df[(df['Churn'] == 'Yes') & (df['International plan'] == 'Yes')]\n",
    "    print(\"\\n----- CHURNED & INTERNATIONAL PLAN -----\")\n",
    "    print(filtered.head())"
   ]
  },
  {
   "cell_type": "code",
   "execution_count": null,
   "id": "db9cfbfe-da84-468a-a7fa-fe36fea7ff6a",
   "metadata": {},
   "outputs": [],
   "source": [
    "#Indexing with iloc and loc"
   ]
  },
  {
   "cell_type": "code",
   "execution_count": null,
   "id": "d84363d0-9b48-48d1-83f4-f40c6c86ab41",
   "metadata": {},
   "outputs": [],
   "source": [
    "print(\"\\n----- ILOC (Row 5) -----\")\n",
    "print(df.iloc[5])"
   ]
  },
  {
   "cell_type": "code",
   "execution_count": null,
   "id": "bb1cd614-5c8e-4533-870b-81f5a52f86eb",
   "metadata": {},
   "outputs": [],
   "source": [
    "print(\"\\n----- ILOC (Rows 10–15, Columns 0–3) -----\")\n",
    "print(df.iloc[10:16, 0:4])"
   ]
  },
  {
   "cell_type": "code",
   "execution_count": null,
   "id": "324ef5ed-e7ae-4718-b0b7-8e782a7e9c6c",
   "metadata": {},
   "outputs": [],
   "source": [
    "# If there’s a “State” column, set it as the index and filter by one"
   ]
  },
  {
   "cell_type": "code",
   "execution_count": null,
   "id": "e441b61a-4713-44e1-adc7-d6547b1152dc",
   "metadata": {},
   "outputs": [],
   "source": [
    "if 'State' in df.columns:\n",
    "    df.set_index('State', inplace=True)\n",
    "    print(\"\\n----- FILTER BY STATE (e.g., OHIO) -----\")\n",
    "    print(df.loc['OH'])"
   ]
  },
  {
   "cell_type": "code",
   "execution_count": null,
   "id": "acc14375-24a7-4c74-a601-1d0e17b8ebac",
   "metadata": {},
   "outputs": [],
   "source": [
    "#Drop missing rows"
   ]
  },
  {
   "cell_type": "code",
   "execution_count": null,
   "id": "a2b05a0e-98f9-4eed-91fe-f1e40b086e0d",
   "metadata": {},
   "outputs": [],
   "source": [
    "df.dropna(inplace=True)\n",
    "print(\"\\n----- AFTER DROPPING MISSING VALUES -----\")\n",
    "print(df.isnull().sum())"
   ]
  },
  {
   "cell_type": "code",
   "execution_count": null,
   "id": "5652927b-679a-45d3-9b90-5c3610d671f6",
   "metadata": {},
   "outputs": [],
   "source": [
    "#Drop a column (example: 'Area code' if it exists)"
   ]
  },
  {
   "cell_type": "code",
   "execution_count": null,
   "id": "f7585347-6d5b-416a-b2c0-1e3b91767d24",
   "metadata": {},
   "outputs": [],
   "source": [
    "if 'Area code' in df.columns:\n",
    "    df.drop(columns=['Area code'], inplace=True)\n",
    "    print(\"\\n----- DROPPED 'Area code' COLUMN -----\")\n",
    "    print(df.head())"
   ]
  },
  {
   "cell_type": "code",
   "execution_count": null,
   "id": "4a2cd98e-9291-4346-824e-34e9f0322d82",
   "metadata": {},
   "outputs": [],
   "source": [
    "#Create a new calculated column"
   ]
  },
  {
   "cell_type": "code",
   "execution_count": null,
   "id": "d53af85a-e390-470a-8951-a2f66a685f89",
   "metadata": {},
   "outputs": [],
   "source": [
    "if 'Total day minutes' in df.columns and 'Total intl minutes' in df.columns:\n",
    "    df['Total combined minutes'] = df['Total day minutes'] + df['Total intl minutes']\n",
    "    print(\"\\n----- NEW COLUMN CREATED -----\")\n",
    "    print(df[['Total day minutes', 'Total intl minutes', 'Total combined minutes']].head())\n"
   ]
  },
  {
   "cell_type": "code",
   "execution_count": null,
   "id": "5f5e5665-6a2d-4cc1-a765-818e42d071c1",
   "metadata": {},
   "outputs": [],
   "source": [
    "#Update entire column values#"
   ]
  },
  {
   "cell_type": "code",
   "execution_count": null,
   "id": "3bb2a1b0-1016-4814-b443-dbf4e312a8a2",
   "metadata": {},
   "outputs": [],
   "source": [
    "if 'Total combined minutes' in df.columns:\n",
    "    df['Total combined minutes'] = 100\n",
    "    print(\"\\n----- UPDATED 'Total combined minutes' TO 100 -----\")\n",
    "    print(df.head())"
   ]
  },
  {
   "cell_type": "code",
   "execution_count": null,
   "id": "ccea5523-46d6-4a56-b351-cf9d2fbd09b3",
   "metadata": {},
   "outputs": [],
   "source": [
    "#Update a single value using iloc"
   ]
  },
  {
   "cell_type": "code",
   "execution_count": null,
   "id": "deaff1bb-a9fe-43ce-8d29-4271c1e20d1a",
   "metadata": {},
   "outputs": [],
   "source": []
  }
 ],
 "metadata": {
  "kernelspec": {
   "display_name": "Python 3 (ipykernel)",
   "language": "python",
   "name": "python3"
  },
  "language_info": {
   "codemirror_mode": {
    "name": "ipython",
    "version": 3
   },
   "file_extension": ".py",
   "mimetype": "text/x-python",
   "name": "python",
   "nbconvert_exporter": "python",
   "pygments_lexer": "ipython3",
   "version": "3.13.5"
  }
 },
 "nbformat": 4,
 "nbformat_minor": 5
}
