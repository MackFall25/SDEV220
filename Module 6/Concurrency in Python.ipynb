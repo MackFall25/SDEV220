{
 "cells": [
  {
   "cell_type": "code",
   "execution_count": null,
   "id": "379e3042-9990-4719-b43e-7a0ba44d680e",
   "metadata": {},
   "outputs": [],
   "source": [
    "#13.1 Write the current date as a string to the text file today.txt."
   ]
  },
  {
   "cell_type": "code",
   "execution_count": 2,
   "id": "b29be771-a959-4cb2-b73d-914c0d32139b",
   "metadata": {},
   "outputs": [],
   "source": [
    "from datetime import date\n",
    "today = date.today()\n",
    "today_string = today.isoformat()\n",
    "\n",
    "with open(\"today.txt\", \"w\") as file:\n",
    "    file.write(today_string + \"\\n\")\n"
   ]
  },
  {
   "cell_type": "code",
   "execution_count": 3,
   "id": "c4256a61-725f-4599-b7ff-9f35244e0ec2",
   "metadata": {},
   "outputs": [],
   "source": [
    "#13.2 Read the text file today.txt into the string today_string."
   ]
  },
  {
   "cell_type": "code",
   "execution_count": 4,
   "id": "12e3c645-4bb6-423f-9a9a-c575a8d7ef92",
   "metadata": {},
   "outputs": [
    {
     "name": "stdout",
     "output_type": "stream",
     "text": [
      "2025-10-13\n",
      "\n"
     ]
    }
   ],
   "source": [
    "\n",
    "with open(\"today.txt\", \"r\") as file:\n",
    "    today_string = file.read()\n",
    "\n",
    "print(today_string)\n"
   ]
  },
  {
   "cell_type": "code",
   "execution_count": 5,
   "id": "30a6c016-3041-4d4f-a086-133ae0c0e654",
   "metadata": {},
   "outputs": [],
   "source": [
    "#13.3 Parse the date from today_string."
   ]
  },
  {
   "cell_type": "code",
   "execution_count": 6,
   "id": "a14e48b5-1287-4f33-aabb-2de730a63e15",
   "metadata": {},
   "outputs": [
    {
     "name": "stdout",
     "output_type": "stream",
     "text": [
      "2025-10-13 00:00:00\n"
     ]
    }
   ],
   "source": [
    "from datetime import datetime\n",
    "fmt = \"%Y-%m-%d\\n\"\n",
    "date_object = datetime.strptime(today_string, fmt)\n",
    "print(date_object)\n"
   ]
  },
  {
   "cell_type": "code",
   "execution_count": null,
   "id": "04c341e5-c3ff-4643-b6ff-fc51c9874c9c",
   "metadata": {},
   "outputs": [],
   "source": [
    "#15.1 Use multiprocessing to create three separate processes. Make each one wait a random number of seconds between zero and one, printthe current time, and then exit."
   ]
  },
  {
   "cell_type": "code",
   "execution_count": null,
   "id": "1fb1c7fa-f006-4ecc-a1a4-f4a003f27791",
   "metadata": {},
   "outputs": [],
   "source": []
  }
 ],
 "metadata": {
  "kernelspec": {
   "display_name": "Python 3 (ipykernel)",
   "language": "python",
   "name": "python3"
  },
  "language_info": {
   "codemirror_mode": {
    "name": "ipython",
    "version": 3
   },
   "file_extension": ".py",
   "mimetype": "text/x-python",
   "name": "python",
   "nbconvert_exporter": "python",
   "pygments_lexer": "ipython3",
   "version": "3.13.5"
  }
 },
 "nbformat": 4,
 "nbformat_minor": 5
}
